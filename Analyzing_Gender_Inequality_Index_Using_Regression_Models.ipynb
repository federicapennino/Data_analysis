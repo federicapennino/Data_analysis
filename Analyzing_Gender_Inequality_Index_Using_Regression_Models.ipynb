{
  "nbformat": 4,
  "nbformat_minor": 0,
  "metadata": {
    "colab": {
      "provenance": [],
      "authorship_tag": "ABX9TyN6wo/bns7r0WRunXMAhsCa",
      "include_colab_link": true
    },
    "kernelspec": {
      "name": "python3",
      "display_name": "Python 3"
    },
    "language_info": {
      "name": "python"
    }
  },
  "cells": [
    {
      "cell_type": "markdown",
      "metadata": {
        "id": "view-in-github",
        "colab_type": "text"
      },
      "source": [
        "<a href=\"https://colab.research.google.com/github/federicapennino/Data_analysis/blob/LABS/Analyzing_Gender_Inequality_Index_Using_Regression_Models.ipynb\" target=\"_parent\"><img src=\"https://colab.research.google.com/assets/colab-badge.svg\" alt=\"Open In Colab\"/></a>"
      ]
    },
    {
      "cell_type": "markdown",
      "source": [
        "Analyzing Gender Inequality Index Using Regression Models"
      ],
      "metadata": {
        "id": "zdsB8ifOaoVa"
      }
    },
    {
      "cell_type": "markdown",
      "source": [
        "This analysis examines the relationship between gender inequality (measured by the Gender Inequality Index - GII) and various socio-economic factors, including women's representation in parliament, female labor force participation, access to education, fertility rates, and life expectancy. By employing Ordinary Least Squares (OLS) and Random Forest regression models, the aim is to identify the key drivers of gender inequality and evaluate the predictive accuracy of linear and non-linear models. The feature importance is analyzed to understand the relative contribution of each variable.\n",
        "\n"
      ],
      "metadata": {
        "id": "A9jzuUGo1V7h"
      }
    },
    {
      "cell_type": "code",
      "execution_count": null,
      "metadata": {
        "id": "UE6dMmP_ajN5"
      },
      "outputs": [],
      "source": [
        "import pandas as pd\n",
        "import numpy as np\n",
        "import matplotlib.pyplot as plt\n",
        "import seaborn as sns\n",
        "import statsmodels.api as sm\n",
        "import statsmodels.formula.api as smf"
      ]
    },
    {
      "cell_type": "markdown",
      "source": [
        "\n",
        "The dataset is sourced from the QoG database, which contains cross-country data on governance, socio-economic indicators, and development metrics. For this analysis, only countries with complete data on the selected variables are included. The following variables are used:\n",
        "\n",
        "Proportion of seats held by women in national parliaments (wdi_wip): A measure of political representation.\n",
        "Female labor force participation (wdi_lfpf): The percentage of women actively participating in the labor market.\n",
        "Firms with female top managers (wdi_firftopm): An indicator of female leadership in the private sector.\n",
        "Female literacy rate (wdi_litradf): Access to education for women.\n",
        "Fertility rate (wdi_fertility): A measure of birth rates per woman.\n",
        "Female life expectancy at birth (wdi_lifexpf): A proxy for overall health and development.\n",
        "The dependent variable, Gender Inequality Index (gii_gii), quantifies gender-based disparities across health, empowerment, and labor participation.\n",
        "\n"
      ],
      "metadata": {
        "id": "gVelWcj72IVM"
      }
    },
    {
      "cell_type": "code",
      "source": [
        "# import data\n",
        "url = 'https://www.qogdata.pol.gu.se/data/qog_bas_cs_jan24.xlsx'\n",
        "df = pd.read_excel(url)\n",
        "\n",
        "df.head()"
      ],
      "metadata": {
        "colab": {
          "base_uri": "https://localhost:8080/",
          "height": 250
        },
        "id": "ld7OlwfSaoDN",
        "outputId": "da7d39a3-c218-4836-d460-aeefc0077f06"
      },
      "execution_count": null,
      "outputs": [
        {
          "output_type": "execute_result",
          "data": {
            "text/plain": [
              "   ccode        cname  ccode_qog    cname_qog ccodealp  ccodecow  \\\n",
              "0      4  Afghanistan          4  Afghanistan      AFG     700.0   \n",
              "1      8      Albania          8      Albania      ALB     339.0   \n",
              "2     12      Algeria         12      Algeria      DZA     615.0   \n",
              "3     20      Andorra         20      Andorra      AND     232.0   \n",
              "4     24       Angola         24       Angola      AGO     540.0   \n",
              "\n",
              "         version  ajr_settmort  atop_ally  atop_number  ...  wvs_imprel  \\\n",
              "0  QoGBasCSjan24      4.540098        1.0          1.0  ...         NaN   \n",
              "1  QoGBasCSjan24           NaN        1.0          8.0  ...    2.869328   \n",
              "2  QoGBasCSjan24      4.359270        1.0          9.0  ...         NaN   \n",
              "3  QoGBasCSjan24           NaN        1.0          2.0  ...    2.034930   \n",
              "4  QoGBasCSjan24      5.634789        1.0          8.0  ...         NaN   \n",
              "\n",
              "   wvs_pmi12  wvs_psarmy  wvs_psdem  wvs_psexp  wvs_pssl  wvs_relacc  \\\n",
              "0        NaN         NaN        NaN        NaN       NaN         NaN   \n",
              "1        NaN    1.596485   3.849031   3.475513  1.744196         NaN   \n",
              "2        NaN         NaN        NaN        NaN       NaN         NaN   \n",
              "3   2.710393    1.336049   3.681363   2.635721  1.830491    1.751004   \n",
              "4        NaN         NaN        NaN        NaN       NaN         NaN   \n",
              "\n",
              "   wvs_satfin  wvs_subh  wvs_trust  \n",
              "0         NaN       NaN        NaN  \n",
              "1         NaN  3.488758   0.027857  \n",
              "2         NaN       NaN        NaN  \n",
              "3    6.561316  4.089642   0.255744  \n",
              "4         NaN       NaN        NaN  \n",
              "\n",
              "[5 rows x 337 columns]"
            ],
            "text/html": [
              "\n",
              "  <div id=\"df-1acdacc3-90be-48f1-a68b-a2f583f4bc4c\" class=\"colab-df-container\">\n",
              "    <div>\n",
              "<style scoped>\n",
              "    .dataframe tbody tr th:only-of-type {\n",
              "        vertical-align: middle;\n",
              "    }\n",
              "\n",
              "    .dataframe tbody tr th {\n",
              "        vertical-align: top;\n",
              "    }\n",
              "\n",
              "    .dataframe thead th {\n",
              "        text-align: right;\n",
              "    }\n",
              "</style>\n",
              "<table border=\"1\" class=\"dataframe\">\n",
              "  <thead>\n",
              "    <tr style=\"text-align: right;\">\n",
              "      <th></th>\n",
              "      <th>ccode</th>\n",
              "      <th>cname</th>\n",
              "      <th>ccode_qog</th>\n",
              "      <th>cname_qog</th>\n",
              "      <th>ccodealp</th>\n",
              "      <th>ccodecow</th>\n",
              "      <th>version</th>\n",
              "      <th>ajr_settmort</th>\n",
              "      <th>atop_ally</th>\n",
              "      <th>atop_number</th>\n",
              "      <th>...</th>\n",
              "      <th>wvs_imprel</th>\n",
              "      <th>wvs_pmi12</th>\n",
              "      <th>wvs_psarmy</th>\n",
              "      <th>wvs_psdem</th>\n",
              "      <th>wvs_psexp</th>\n",
              "      <th>wvs_pssl</th>\n",
              "      <th>wvs_relacc</th>\n",
              "      <th>wvs_satfin</th>\n",
              "      <th>wvs_subh</th>\n",
              "      <th>wvs_trust</th>\n",
              "    </tr>\n",
              "  </thead>\n",
              "  <tbody>\n",
              "    <tr>\n",
              "      <th>0</th>\n",
              "      <td>4</td>\n",
              "      <td>Afghanistan</td>\n",
              "      <td>4</td>\n",
              "      <td>Afghanistan</td>\n",
              "      <td>AFG</td>\n",
              "      <td>700.0</td>\n",
              "      <td>QoGBasCSjan24</td>\n",
              "      <td>4.540098</td>\n",
              "      <td>1.0</td>\n",
              "      <td>1.0</td>\n",
              "      <td>...</td>\n",
              "      <td>NaN</td>\n",
              "      <td>NaN</td>\n",
              "      <td>NaN</td>\n",
              "      <td>NaN</td>\n",
              "      <td>NaN</td>\n",
              "      <td>NaN</td>\n",
              "      <td>NaN</td>\n",
              "      <td>NaN</td>\n",
              "      <td>NaN</td>\n",
              "      <td>NaN</td>\n",
              "    </tr>\n",
              "    <tr>\n",
              "      <th>1</th>\n",
              "      <td>8</td>\n",
              "      <td>Albania</td>\n",
              "      <td>8</td>\n",
              "      <td>Albania</td>\n",
              "      <td>ALB</td>\n",
              "      <td>339.0</td>\n",
              "      <td>QoGBasCSjan24</td>\n",
              "      <td>NaN</td>\n",
              "      <td>1.0</td>\n",
              "      <td>8.0</td>\n",
              "      <td>...</td>\n",
              "      <td>2.869328</td>\n",
              "      <td>NaN</td>\n",
              "      <td>1.596485</td>\n",
              "      <td>3.849031</td>\n",
              "      <td>3.475513</td>\n",
              "      <td>1.744196</td>\n",
              "      <td>NaN</td>\n",
              "      <td>NaN</td>\n",
              "      <td>3.488758</td>\n",
              "      <td>0.027857</td>\n",
              "    </tr>\n",
              "    <tr>\n",
              "      <th>2</th>\n",
              "      <td>12</td>\n",
              "      <td>Algeria</td>\n",
              "      <td>12</td>\n",
              "      <td>Algeria</td>\n",
              "      <td>DZA</td>\n",
              "      <td>615.0</td>\n",
              "      <td>QoGBasCSjan24</td>\n",
              "      <td>4.359270</td>\n",
              "      <td>1.0</td>\n",
              "      <td>9.0</td>\n",
              "      <td>...</td>\n",
              "      <td>NaN</td>\n",
              "      <td>NaN</td>\n",
              "      <td>NaN</td>\n",
              "      <td>NaN</td>\n",
              "      <td>NaN</td>\n",
              "      <td>NaN</td>\n",
              "      <td>NaN</td>\n",
              "      <td>NaN</td>\n",
              "      <td>NaN</td>\n",
              "      <td>NaN</td>\n",
              "    </tr>\n",
              "    <tr>\n",
              "      <th>3</th>\n",
              "      <td>20</td>\n",
              "      <td>Andorra</td>\n",
              "      <td>20</td>\n",
              "      <td>Andorra</td>\n",
              "      <td>AND</td>\n",
              "      <td>232.0</td>\n",
              "      <td>QoGBasCSjan24</td>\n",
              "      <td>NaN</td>\n",
              "      <td>1.0</td>\n",
              "      <td>2.0</td>\n",
              "      <td>...</td>\n",
              "      <td>2.034930</td>\n",
              "      <td>2.710393</td>\n",
              "      <td>1.336049</td>\n",
              "      <td>3.681363</td>\n",
              "      <td>2.635721</td>\n",
              "      <td>1.830491</td>\n",
              "      <td>1.751004</td>\n",
              "      <td>6.561316</td>\n",
              "      <td>4.089642</td>\n",
              "      <td>0.255744</td>\n",
              "    </tr>\n",
              "    <tr>\n",
              "      <th>4</th>\n",
              "      <td>24</td>\n",
              "      <td>Angola</td>\n",
              "      <td>24</td>\n",
              "      <td>Angola</td>\n",
              "      <td>AGO</td>\n",
              "      <td>540.0</td>\n",
              "      <td>QoGBasCSjan24</td>\n",
              "      <td>5.634789</td>\n",
              "      <td>1.0</td>\n",
              "      <td>8.0</td>\n",
              "      <td>...</td>\n",
              "      <td>NaN</td>\n",
              "      <td>NaN</td>\n",
              "      <td>NaN</td>\n",
              "      <td>NaN</td>\n",
              "      <td>NaN</td>\n",
              "      <td>NaN</td>\n",
              "      <td>NaN</td>\n",
              "      <td>NaN</td>\n",
              "      <td>NaN</td>\n",
              "      <td>NaN</td>\n",
              "    </tr>\n",
              "  </tbody>\n",
              "</table>\n",
              "<p>5 rows × 337 columns</p>\n",
              "</div>\n",
              "    <div class=\"colab-df-buttons\">\n",
              "\n",
              "  <div class=\"colab-df-container\">\n",
              "    <button class=\"colab-df-convert\" onclick=\"convertToInteractive('df-1acdacc3-90be-48f1-a68b-a2f583f4bc4c')\"\n",
              "            title=\"Convert this dataframe to an interactive table.\"\n",
              "            style=\"display:none;\">\n",
              "\n",
              "  <svg xmlns=\"http://www.w3.org/2000/svg\" height=\"24px\" viewBox=\"0 -960 960 960\">\n",
              "    <path d=\"M120-120v-720h720v720H120Zm60-500h600v-160H180v160Zm220 220h160v-160H400v160Zm0 220h160v-160H400v160ZM180-400h160v-160H180v160Zm440 0h160v-160H620v160ZM180-180h160v-160H180v160Zm440 0h160v-160H620v160Z\"/>\n",
              "  </svg>\n",
              "    </button>\n",
              "\n",
              "  <style>\n",
              "    .colab-df-container {\n",
              "      display:flex;\n",
              "      gap: 12px;\n",
              "    }\n",
              "\n",
              "    .colab-df-convert {\n",
              "      background-color: #E8F0FE;\n",
              "      border: none;\n",
              "      border-radius: 50%;\n",
              "      cursor: pointer;\n",
              "      display: none;\n",
              "      fill: #1967D2;\n",
              "      height: 32px;\n",
              "      padding: 0 0 0 0;\n",
              "      width: 32px;\n",
              "    }\n",
              "\n",
              "    .colab-df-convert:hover {\n",
              "      background-color: #E2EBFA;\n",
              "      box-shadow: 0px 1px 2px rgba(60, 64, 67, 0.3), 0px 1px 3px 1px rgba(60, 64, 67, 0.15);\n",
              "      fill: #174EA6;\n",
              "    }\n",
              "\n",
              "    .colab-df-buttons div {\n",
              "      margin-bottom: 4px;\n",
              "    }\n",
              "\n",
              "    [theme=dark] .colab-df-convert {\n",
              "      background-color: #3B4455;\n",
              "      fill: #D2E3FC;\n",
              "    }\n",
              "\n",
              "    [theme=dark] .colab-df-convert:hover {\n",
              "      background-color: #434B5C;\n",
              "      box-shadow: 0px 1px 3px 1px rgba(0, 0, 0, 0.15);\n",
              "      filter: drop-shadow(0px 1px 2px rgba(0, 0, 0, 0.3));\n",
              "      fill: #FFFFFF;\n",
              "    }\n",
              "  </style>\n",
              "\n",
              "    <script>\n",
              "      const buttonEl =\n",
              "        document.querySelector('#df-1acdacc3-90be-48f1-a68b-a2f583f4bc4c button.colab-df-convert');\n",
              "      buttonEl.style.display =\n",
              "        google.colab.kernel.accessAllowed ? 'block' : 'none';\n",
              "\n",
              "      async function convertToInteractive(key) {\n",
              "        const element = document.querySelector('#df-1acdacc3-90be-48f1-a68b-a2f583f4bc4c');\n",
              "        const dataTable =\n",
              "          await google.colab.kernel.invokeFunction('convertToInteractive',\n",
              "                                                    [key], {});\n",
              "        if (!dataTable) return;\n",
              "\n",
              "        const docLinkHtml = 'Like what you see? Visit the ' +\n",
              "          '<a target=\"_blank\" href=https://colab.research.google.com/notebooks/data_table.ipynb>data table notebook</a>'\n",
              "          + ' to learn more about interactive tables.';\n",
              "        element.innerHTML = '';\n",
              "        dataTable['output_type'] = 'display_data';\n",
              "        await google.colab.output.renderOutput(dataTable, element);\n",
              "        const docLink = document.createElement('div');\n",
              "        docLink.innerHTML = docLinkHtml;\n",
              "        element.appendChild(docLink);\n",
              "      }\n",
              "    </script>\n",
              "  </div>\n",
              "\n",
              "\n",
              "<div id=\"df-63124761-e339-4b0f-b98e-f67e7cf82330\">\n",
              "  <button class=\"colab-df-quickchart\" onclick=\"quickchart('df-63124761-e339-4b0f-b98e-f67e7cf82330')\"\n",
              "            title=\"Suggest charts\"\n",
              "            style=\"display:none;\">\n",
              "\n",
              "<svg xmlns=\"http://www.w3.org/2000/svg\" height=\"24px\"viewBox=\"0 0 24 24\"\n",
              "     width=\"24px\">\n",
              "    <g>\n",
              "        <path d=\"M19 3H5c-1.1 0-2 .9-2 2v14c0 1.1.9 2 2 2h14c1.1 0 2-.9 2-2V5c0-1.1-.9-2-2-2zM9 17H7v-7h2v7zm4 0h-2V7h2v10zm4 0h-2v-4h2v4z\"/>\n",
              "    </g>\n",
              "</svg>\n",
              "  </button>\n",
              "\n",
              "<style>\n",
              "  .colab-df-quickchart {\n",
              "      --bg-color: #E8F0FE;\n",
              "      --fill-color: #1967D2;\n",
              "      --hover-bg-color: #E2EBFA;\n",
              "      --hover-fill-color: #174EA6;\n",
              "      --disabled-fill-color: #AAA;\n",
              "      --disabled-bg-color: #DDD;\n",
              "  }\n",
              "\n",
              "  [theme=dark] .colab-df-quickchart {\n",
              "      --bg-color: #3B4455;\n",
              "      --fill-color: #D2E3FC;\n",
              "      --hover-bg-color: #434B5C;\n",
              "      --hover-fill-color: #FFFFFF;\n",
              "      --disabled-bg-color: #3B4455;\n",
              "      --disabled-fill-color: #666;\n",
              "  }\n",
              "\n",
              "  .colab-df-quickchart {\n",
              "    background-color: var(--bg-color);\n",
              "    border: none;\n",
              "    border-radius: 50%;\n",
              "    cursor: pointer;\n",
              "    display: none;\n",
              "    fill: var(--fill-color);\n",
              "    height: 32px;\n",
              "    padding: 0;\n",
              "    width: 32px;\n",
              "  }\n",
              "\n",
              "  .colab-df-quickchart:hover {\n",
              "    background-color: var(--hover-bg-color);\n",
              "    box-shadow: 0 1px 2px rgba(60, 64, 67, 0.3), 0 1px 3px 1px rgba(60, 64, 67, 0.15);\n",
              "    fill: var(--button-hover-fill-color);\n",
              "  }\n",
              "\n",
              "  .colab-df-quickchart-complete:disabled,\n",
              "  .colab-df-quickchart-complete:disabled:hover {\n",
              "    background-color: var(--disabled-bg-color);\n",
              "    fill: var(--disabled-fill-color);\n",
              "    box-shadow: none;\n",
              "  }\n",
              "\n",
              "  .colab-df-spinner {\n",
              "    border: 2px solid var(--fill-color);\n",
              "    border-color: transparent;\n",
              "    border-bottom-color: var(--fill-color);\n",
              "    animation:\n",
              "      spin 1s steps(1) infinite;\n",
              "  }\n",
              "\n",
              "  @keyframes spin {\n",
              "    0% {\n",
              "      border-color: transparent;\n",
              "      border-bottom-color: var(--fill-color);\n",
              "      border-left-color: var(--fill-color);\n",
              "    }\n",
              "    20% {\n",
              "      border-color: transparent;\n",
              "      border-left-color: var(--fill-color);\n",
              "      border-top-color: var(--fill-color);\n",
              "    }\n",
              "    30% {\n",
              "      border-color: transparent;\n",
              "      border-left-color: var(--fill-color);\n",
              "      border-top-color: var(--fill-color);\n",
              "      border-right-color: var(--fill-color);\n",
              "    }\n",
              "    40% {\n",
              "      border-color: transparent;\n",
              "      border-right-color: var(--fill-color);\n",
              "      border-top-color: var(--fill-color);\n",
              "    }\n",
              "    60% {\n",
              "      border-color: transparent;\n",
              "      border-right-color: var(--fill-color);\n",
              "    }\n",
              "    80% {\n",
              "      border-color: transparent;\n",
              "      border-right-color: var(--fill-color);\n",
              "      border-bottom-color: var(--fill-color);\n",
              "    }\n",
              "    90% {\n",
              "      border-color: transparent;\n",
              "      border-bottom-color: var(--fill-color);\n",
              "    }\n",
              "  }\n",
              "</style>\n",
              "\n",
              "  <script>\n",
              "    async function quickchart(key) {\n",
              "      const quickchartButtonEl =\n",
              "        document.querySelector('#' + key + ' button');\n",
              "      quickchartButtonEl.disabled = true;  // To prevent multiple clicks.\n",
              "      quickchartButtonEl.classList.add('colab-df-spinner');\n",
              "      try {\n",
              "        const charts = await google.colab.kernel.invokeFunction(\n",
              "            'suggestCharts', [key], {});\n",
              "      } catch (error) {\n",
              "        console.error('Error during call to suggestCharts:', error);\n",
              "      }\n",
              "      quickchartButtonEl.classList.remove('colab-df-spinner');\n",
              "      quickchartButtonEl.classList.add('colab-df-quickchart-complete');\n",
              "    }\n",
              "    (() => {\n",
              "      let quickchartButtonEl =\n",
              "        document.querySelector('#df-63124761-e339-4b0f-b98e-f67e7cf82330 button');\n",
              "      quickchartButtonEl.style.display =\n",
              "        google.colab.kernel.accessAllowed ? 'block' : 'none';\n",
              "    })();\n",
              "  </script>\n",
              "</div>\n",
              "\n",
              "    </div>\n",
              "  </div>\n"
            ],
            "application/vnd.google.colaboratory.intrinsic+json": {
              "type": "dataframe",
              "variable_name": "df"
            }
          },
          "metadata": {},
          "execution_count": 18
        }
      ]
    },
    {
      "cell_type": "code",
      "source": [
        "from sklearn.linear_model import LinearRegression, Lasso, Ridge\n",
        "from sklearn.neighbors import KNeighborsRegressor\n",
        "from sklearn.ensemble import RandomForestRegressor\n",
        "from sklearn.model_selection import train_test_split\n",
        "from sklearn.model_selection import cross_val_score, GridSearchCV\n",
        "from sklearn.metrics import mean_squared_error"
      ],
      "metadata": {
        "id": "ZXI5YspdbOnu"
      },
      "execution_count": null,
      "outputs": []
    },
    {
      "cell_type": "markdown",
      "source": [
        "To predict the Gender Inequality Index (GII), the dataset is split into training and testing subsets, with 70% of the data used for training and 30% for testing. This ensures that the model can be evaluated on unseen data, preventing overfitting and improving generalizability."
      ],
      "metadata": {
        "id": "wm1d4CSjbQ0k"
      }
    },
    {
      "cell_type": "code",
      "source": [
        "# Define independent variables (predictors) and dependent variable (GII)\n",
        "# Predictors represent various socio-economic factors affecting gender inequality\n",
        "df_cleaned = df.dropna(subset=['wdi_wip', 'wdi_lfpf', 'wdi_firftopm', 'wdi_litradf', 'wdi_fertility', 'wdi_lifexpf'])\n",
        "X = df_cleaned[['wdi_wip','wdi_lfpf', 'wdi_firftopm', 'wdi_litradf', 'wdi_fertility', 'wdi_lifexpf']]\n",
        "y = df_cleaned['gii_gii']"
      ],
      "metadata": {
        "id": "FnvRNbNreLc8"
      },
      "execution_count": null,
      "outputs": []
    },
    {
      "cell_type": "markdown",
      "source": [
        "Model\n",
        "\n",
        "The OLS regression model is employed to analyze the linear relationships between the predictors and the GII. It provides coefficients that indicate the magnitude and direction of the relationship for each predictor.\n"
      ],
      "metadata": {
        "id": "dhRqgaTVgEJw"
      }
    },
    {
      "cell_type": "code",
      "source": [
        "X_train,X_test,y_train,y_test = train_test_split(X,y,test_size=0.3,random_state=42)"
      ],
      "metadata": {
        "id": "57q1B_aegY6D"
      },
      "execution_count": null,
      "outputs": []
    },
    {
      "cell_type": "code",
      "source": [
        "ols_model = LinearRegression()\n",
        "ols_model.fit(X_train, y_train)\n",
        "y_pred = ols_model.predict(X_test)\n",
        "\n",
        "print('Mean Squared Error:', np.sqrt(mean_squared_error(y_test, y_pred)))="
      ],
      "metadata": {
        "colab": {
          "base_uri": "https://localhost:8080/"
        },
        "id": "A1rbFf8pgdTl",
        "outputId": "aa3dc1b7-fa62-47b8-e8af-96232d6abefe"
      },
      "execution_count": null,
      "outputs": [
        {
          "output_type": "stream",
          "name": "stdout",
          "text": [
            "Mean Squared Error: 0.09200847776909762\n"
          ]
        }
      ]
    },
    {
      "cell_type": "code",
      "source": [
        "# Calculate and print the R-squared value\n",
        "from sklearn.metrics import mean_squared_error, r2_score\n",
        "r_squared = r2_score(y_test, y_pred)\n",
        "print('R-squared:', r_squared)"
      ],
      "metadata": {
        "colab": {
          "base_uri": "https://localhost:8080/"
        },
        "id": "d5ZcVmfIgiHz",
        "outputId": "7ea617ea-cb39-4974-850b-954313cba91b"
      },
      "execution_count": null,
      "outputs": [
        {
          "output_type": "stream",
          "name": "stdout",
          "text": [
            "R-squared: 0.6327907824787775\n"
          ]
        }
      ]
    },
    {
      "cell_type": "markdown",
      "source": [
        "The model achieved a Mean Squared Error (MSE) of 0.092, perhaps indicating a quite high level of accuracy in predicting gender equality. Without anything to compare this MSE to, it is not possible to say much about it. This just suggests that the model is somewhat able to capture the underlying relationships between the variables chosen and gender equality.\n",
        "\n",
        "R-squared Value: The OLS model explained 63% of the variance in GII, indicating reasonably good fit."
      ],
      "metadata": {
        "id": "gRALhoQtgmdQ"
      }
    },
    {
      "cell_type": "markdown",
      "source": [
        "Coefficient Interpretation"
      ],
      "metadata": {
        "id": "lW1xiMvThASN"
      }
    },
    {
      "cell_type": "code",
      "source": [
        "coefficients = pd.Series(ols_model.coef_, index=X.columns)\n",
        "coefficients"
      ],
      "metadata": {
        "colab": {
          "base_uri": "https://localhost:8080/",
          "height": 264
        },
        "id": "UEqSqFZ9hC2d",
        "outputId": "d5eab0bc-a560-4b00-e0ae-475a4737326c"
      },
      "execution_count": null,
      "outputs": [
        {
          "output_type": "execute_result",
          "data": {
            "text/plain": [
              "wdi_wip         -0.005429\n",
              "wdi_lfpf        -0.005914\n",
              "wdi_firftopm     0.002510\n",
              "wdi_litradf     -0.001580\n",
              "wdi_fertility   -0.001016\n",
              "wdi_lifexpf     -0.017994\n",
              "dtype: float64"
            ],
            "text/html": [
              "<div>\n",
              "<style scoped>\n",
              "    .dataframe tbody tr th:only-of-type {\n",
              "        vertical-align: middle;\n",
              "    }\n",
              "\n",
              "    .dataframe tbody tr th {\n",
              "        vertical-align: top;\n",
              "    }\n",
              "\n",
              "    .dataframe thead th {\n",
              "        text-align: right;\n",
              "    }\n",
              "</style>\n",
              "<table border=\"1\" class=\"dataframe\">\n",
              "  <thead>\n",
              "    <tr style=\"text-align: right;\">\n",
              "      <th></th>\n",
              "      <th>0</th>\n",
              "    </tr>\n",
              "  </thead>\n",
              "  <tbody>\n",
              "    <tr>\n",
              "      <th>wdi_wip</th>\n",
              "      <td>-0.005429</td>\n",
              "    </tr>\n",
              "    <tr>\n",
              "      <th>wdi_lfpf</th>\n",
              "      <td>-0.005914</td>\n",
              "    </tr>\n",
              "    <tr>\n",
              "      <th>wdi_firftopm</th>\n",
              "      <td>0.002510</td>\n",
              "    </tr>\n",
              "    <tr>\n",
              "      <th>wdi_litradf</th>\n",
              "      <td>-0.001580</td>\n",
              "    </tr>\n",
              "    <tr>\n",
              "      <th>wdi_fertility</th>\n",
              "      <td>-0.001016</td>\n",
              "    </tr>\n",
              "    <tr>\n",
              "      <th>wdi_lifexpf</th>\n",
              "      <td>-0.017994</td>\n",
              "    </tr>\n",
              "  </tbody>\n",
              "</table>\n",
              "</div><br><label><b>dtype:</b> float64</label>"
            ]
          },
          "metadata": {},
          "execution_count": 24
        }
      ]
    },
    {
      "cell_type": "markdown",
      "source": [
        "5 out of 6 variables have a negative effect on gender inequlity:\n",
        "1. Proportion of seats held by women in national parliaments (wdi_wip);\n",
        "2. Female labor force participation (wdi_lfpf);\n",
        "3. Access to education: Female literacy rate (wdi_litradf);\n",
        "4. Fertility rate (wdi_fertility);\n",
        "5. Female Life expectancy at birth (wdi_lifexpf)\n",
        "\n",
        "and just one variable showed a positive relatonship:\n",
        "Firms with female top managers (wdi_firftopm), suggesting that female leadership at the top level might not always correlate directly with broader reductions in inequality.\n"
      ],
      "metadata": {
        "id": "tFJWTGmqhJ0m"
      }
    },
    {
      "cell_type": "markdown",
      "source": [
        "Random Forest Model\n",
        "\n",
        "The Random Forest model, a non-linear ensemble learning method, is used to better capture complex relationships between predictors and GII. A grid search is conducted to optimize hyperparameters, such as the number of trees (n_estimators), tree depth (max_depth), and minimum samples per split (min_samples_split)."
      ],
      "metadata": {
        "id": "w7ze-8Ty3s2U"
      }
    },
    {
      "cell_type": "code",
      "source": [
        "rf1 = RandomForestRegressor()\n",
        "\n",
        "n_estimators = [50, 100, 300] # how many trees are included, the ore the better\n",
        "max_depth = [None, 1, 5] # how deep each tree goes, too much depth can cause overfitting\n",
        "min_samples_split = [2, 5, 10] # min number of data in a group before the tree can split further\n",
        "min_samples_leaf = [1, 2, 4] # min data point at the end of the tree\n",
        "\n",
        "hyperF = dict(n_estimators = n_estimators, max_depth = max_depth,\n",
        "              min_samples_split = min_samples_split, min_samples_leaf = min_samples_leaf)\n",
        "\n",
        "gridF = GridSearchCV(rf1, hyperF, cv = 3, verbose = 1,\n",
        "                      n_jobs = -1)\n",
        "bestF = gridF.fit(X_train, y_train)\n",
        "\n",
        "print(\"Best Parameters: %f using %s\" % (bestF.best_score_, bestF.best_params_))"
      ],
      "metadata": {
        "colab": {
          "base_uri": "https://localhost:8080/"
        },
        "id": "6sXsxvNf6F5q",
        "outputId": "d1c4e68b-67b3-4098-9fe6-432d7a1b5bbd"
      },
      "execution_count": null,
      "outputs": [
        {
          "output_type": "stream",
          "name": "stdout",
          "text": [
            "Fitting 3 folds for each of 81 candidates, totalling 243 fits\n",
            "Best Parameters: 0.761589 using {'max_depth': 5, 'min_samples_leaf': 1, 'min_samples_split': 5, 'n_estimators': 50}\n"
          ]
        }
      ]
    },
    {
      "cell_type": "markdown",
      "source": [
        "Key results:\n",
        "\n",
        "Best Parameters: The optimal model parameters were: 50 trees (n_estimators), a depth of 5 (max_depth), and a minimum of 5 samples per split (min_samples_split)."
      ],
      "metadata": {
        "id": "QAOSCjRC25jA"
      }
    },
    {
      "cell_type": "markdown",
      "source": [
        "Running the best model and getting the mean-squared-error on tested data. Comparing the mean-squared-errors."
      ],
      "metadata": {
        "id": "XjZGg80v77Gd"
      }
    },
    {
      "cell_type": "code",
      "source": [
        "rf_best = RandomForestRegressor(max_depth= 5, min_samples_split= 5, n_estimators= 50, min_samples_leaf=1)\n",
        "rf_best.fit(X_train, y_train)\n",
        "y_pred = rf_best.predict(X_test)\n",
        "\n",
        "print('Mean Squared Error:', np.sqrt(mean_squared_error(y_test, y_pred)))"
      ],
      "metadata": {
        "colab": {
          "base_uri": "https://localhost:8080/"
        },
        "id": "zxqJMriA79aw",
        "outputId": "47da6291-c2dd-4921-dae9-42b8524f4a39"
      },
      "execution_count": null,
      "outputs": [
        {
          "output_type": "stream",
          "name": "stdout",
          "text": [
            "Mean Squared Error: 0.06321831883042521\n"
          ]
        }
      ]
    },
    {
      "cell_type": "markdown",
      "source": [
        "Mean Squared Error (MSE) of OLS: 0.092.\n",
        "Mean Squared Error (MSE) random forest regressor: 0.066.\n",
        "\n",
        "The Random Forest regressor  outperformed OLS in predicting accurately the outcome variable.\n"
      ],
      "metadata": {
        "id": "Uqv4u1h58EIj"
      }
    },
    {
      "cell_type": "markdown",
      "source": [
        "Comparing models' R-squared."
      ],
      "metadata": {
        "id": "qA4fuSnf32kZ"
      }
    },
    {
      "cell_type": "code",
      "source": [
        "# Calculate and print the R-squared value using the model's score method\n",
        "r_squared = rf_best.score(X_test, y_test)\n",
        "print('R-squared:', r_squared)"
      ],
      "metadata": {
        "colab": {
          "base_uri": "https://localhost:8080/"
        },
        "id": "N1aPS7p28fmz",
        "outputId": "e84c4229-f6a7-4bc3-9ac8-f54c0ea6c05a"
      },
      "execution_count": null,
      "outputs": [
        {
          "output_type": "stream",
          "name": "stdout",
          "text": [
            "R-squared: 0.8266420479624859\n"
          ]
        }
      ]
    },
    {
      "cell_type": "markdown",
      "source": [
        "R-squared OLS: 0.63\n",
        "R-squared random forest regressor: 0.81\n",
        "\n",
        "R-squared is a statistical measure that indicates how well a model explains the variance of the outcome variable and it ranges from 0 to 1. The random forest regressor R-squared is bigger and nearer to 1 than the OLS R squared. While both results are good in terms of explainability of the outcome variable variance, the second model only leaves 19% of unexplained variance, making it a better model. The result is not a surprise since the random forest model is able to capture relationships other than linear.\n"
      ],
      "metadata": {
        "id": "JjZFlknm8mN3"
      }
    },
    {
      "cell_type": "markdown",
      "source": [
        "**Analyzing Feature Importances and Their Impact on Gender Inequality**"
      ],
      "metadata": {
        "id": "qIoIRpdY8zDF"
      }
    },
    {
      "cell_type": "code",
      "source": [
        "import numpy as np\n",
        "import matplotlib.pyplot as plt\n",
        "\n",
        "# For rf_best as our trained Random Forest model\n",
        "importance = rf_best.feature_importances_\n",
        "indices = np.argsort(importance)[::-1]\n",
        "feature_names = X.columns\n",
        "\n",
        "f, ax = plt.subplots(figsize=(10, 8))\n",
        "plt.title(\"Feature ranking\", fontsize=20)\n",
        "plt.bar(range(X.shape[1]), importance[indices], color=\"b\", align=\"center\")\n",
        "plt.xticks(range(X.shape[1]), feature_names[indices], rotation=90)  # Use indices to sort feature names\n",
        "plt.xlim([-1, X.shape[1]])\n",
        "plt.ylabel(\"Importance\", fontsize=18)\n",
        "plt.xlabel(\"Features\", fontsize=18)\n",
        "plt.show()"
      ],
      "metadata": {
        "colab": {
          "base_uri": "https://localhost:8080/",
          "height": 808
        },
        "id": "IwXf9T2f8zrY",
        "outputId": "fb62d294-cd90-4e40-fead-1fbb2105f934"
      },
      "execution_count": null,
      "outputs": [
        {
          "output_type": "display_data",
          "data": {
            "text/plain": [
              "<Figure size 1000x800 with 1 Axes>"
            ],
            "image/png": "[encoded data removed]"
          },
          "metadata": {}
        }
      ]
    },
    {
      "cell_type": "markdown",
      "source": [
        "This section evaluates the relative importance of each predictor variable in the Random Forest model. Feature importance quantifies the contribution of each variable to the model's predictions, helping identify the most influential factors driving gender inequality.\n",
        "\n",
        "Key Results\n",
        "\n",
        "Female Literacy Rate (wdi_litradf): This emerged as the most significant predictor, emphasizing the role of education in reducing gender inequality. Policies focused on improving female literacy are likely to have a substantial impact.\n",
        "Fertility Rate (wdi_fertility): The second most important factor, indicating the importance of demographic factors in shaping gender-related disparities.\n",
        "Female Labor Force Participation (wdi_lfpf): While often cited as a critical factor, its lower importance suggests that other socio-economic conditions might moderate its effects.\n",
        "Visual Representation\n",
        "\n",
        "A bar chart of feature importances provides a clear visualization of the ranking, showcasing the dominance of education and fertility in predicting the Gender Inequality Index.\n",
        "\n",
        "Implications\n",
        "\n",
        "This analysis highlights that while some variables, such as female literacy and fertility, have strong direct effects, others like female life expectancy and top-level leadership have limited influence, potentially due to broader structural or cultural factors.\n",
        "\n",
        "It is also possible to view the same result as a table as follows:"
      ],
      "metadata": {
        "id": "PR2np3No8_MW"
      }
    },
    {
      "cell_type": "code",
      "source": [
        "feature_importances = rf_best.feature_importances_\n",
        "feature_names = X.columns  # Assuming X is a DataFrame\n",
        "\n",
        "# Create a DataFrame for better visualization\n",
        "feature_importances_df = pd.DataFrame({\n",
        "    'Feature': feature_names,\n",
        "    'Importance': feature_importances\n",
        "})\n",
        "\n",
        "# Sort by importance\n",
        "feature_importances_df = feature_importances_df.sort_values(by='Importance', ascending=False)\n",
        "print(feature_importances_df)"
      ],
      "metadata": {
        "colab": {
          "base_uri": "https://localhost:8080/"
        },
        "id": "O9zGQRKi9nMU",
        "outputId": "0ebf55da-3b2e-454f-dfec-d2b521a3a811"
      },
      "execution_count": null,
      "outputs": [
        {
          "output_type": "stream",
          "name": "stdout",
          "text": [
            "         Feature  Importance\n",
            "3    wdi_litradf    0.602871\n",
            "4  wdi_fertility    0.230867\n",
            "5    wdi_lifexpf    0.113577\n",
            "0        wdi_wip    0.038433\n",
            "2   wdi_firftopm    0.008634\n",
            "1       wdi_lfpf    0.005618\n"
          ]
        }
      ]
    },
    {
      "cell_type": "markdown",
      "source": [
        "The Random Forest model provides insights into the relative importance of predictors for explaining gender inequality. The table highlights the contribution of each variable to the predictive power of the model:\n",
        "\n",
        "Access to Education (wdi_litradf): The most critical factor, accounting for 60.3% of the model's predictive power, emphasizes the pivotal role of female literacy in reducing gender disparities. Investments in education are likely to have a transformative impact on gender inequality.\n",
        "Fertility Rate (wdi_fertility): The second most important variable (23.1%) indicates that lower fertility rates are strongly associated with reduced gender inequality, reflecting demographic and socio-economic dynamics.\n",
        "Female Life Expectancy (wdi_lifexpf): Though important (11.4%), its influence may be moderated by other factors such as healthcare access and quality.\n",
        "Other Variables: Proportion of seats held by women in parliament (wdi_wip), firms with female top managers (wdi_firftopm), and female labor force participation (wdi_lfpf) contributed less to the model, suggesting their indirect or limited impact.\n",
        "Observations\n",
        "\n",
        "Low Importance of **Female Top Managers**: This conclusion aligns with previous findings that countries with high gender inequality can still have women in leadership roles. This may stem from social status segregation, where opportunities for leadership are often accessible only to a privileged minority of women, without addressing broader inequality.\n",
        "**Life Expectancy**: The relatively low importance of life expectancy might result from its universal nature in countries with widespread access to healthcare systems. In such contexts, gender disparities in life expectancy are less pronounced, reducing its predictive power for gender inequality.\n",
        "\n",
        "The analysis underscores the critical need to prioritize education and demographic policies in addressing gender inequality. While other variables contribute to the overall model, they may be less direct drivers or reflective of broader structural challenge\n",
        "\n",
        "\n"
      ],
      "metadata": {
        "id": "erxOYQre9_sW"
      }
    }
  ]
}